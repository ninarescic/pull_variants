{
 "cells": [
  {
   "cell_type": "code",
   "execution_count": 1,
   "metadata": {},
   "outputs": [],
   "source": [
    "import json\n",
    "import pandas as pd\n",
    "import matplotlib.pyplot as plt\n",
    "import requests"
   ]
  },
  {
   "cell_type": "code",
   "execution_count": 2,
   "metadata": {},
   "outputs": [],
   "source": [
    "from_github = True\n",
    "url = 'https://raw.githubusercontent.com/hodcroftlab/covariants/master/web/data/perClusterData.json'"
   ]
  },
  {
   "cell_type": "code",
   "execution_count": 3,
   "metadata": {},
   "outputs": [],
   "source": [
    "if from_github:\n",
    "    countries = requests.get(url).json()['country_names']\n",
    "\n",
    "else:\n",
    "    with open('perClusterData.json', 'r') as f:\n",
    "        countries = json.load(f)['country_names']"
   ]
  },
  {
   "cell_type": "code",
   "execution_count": 4,
   "metadata": {},
   "outputs": [],
   "source": [
    "if from_github:\n",
    "    data = requests.get(url).json()['distributions']\n",
    "    results_df = pd.DataFrame.from_dict(data)\n",
    "\n",
    "else:\n",
    "    with open('perClusterData.json', 'r') as f:\n",
    "        data = json.load(f)['distributions']\n",
    "        results_df = pd.DataFrame.from_dict(data)"
   ]
  },
  {
   "cell_type": "code",
   "execution_count": 5,
   "metadata": {},
   "outputs": [],
   "source": [
    "cols = ['frequencies', 'interp', 'orig', 'week']"
   ]
  },
  {
   "cell_type": "markdown",
   "metadata": {},
   "source": [
    "### Choose variants"
   ]
  },
  {
   "cell_type": "code",
   "execution_count": 6,
   "metadata": {},
   "outputs": [],
   "source": [
    "list_VOC = ['21A (Delta)','21I (Delta)','21J (Delta)','21K (Omicron)','21L (Omicron)']\n",
    "\n",
    "voc_idx = []\n",
    "for voc in list_VOC:\n",
    "    voc_idx.append(pd.Series.to_list(results_df['cluster']).index(voc))"
   ]
  },
  {
   "cell_type": "code",
   "execution_count": 7,
   "metadata": {},
   "outputs": [],
   "source": [
    "variants = {}\n",
    "\n",
    "\n",
    "for country in countries:\n",
    "    \n",
    "    cnt = 0\n",
    "\n",
    "    df_country = pd.DataFrame(columns = ['week','country'])\n",
    "    \n",
    "    for j in voc_idx:\n",
    "        df_variant = pd.DataFrame(columns = cols)\n",
    "\n",
    "\n",
    "        for i in range(len(results_df.distribution[j])):\n",
    "\n",
    "            df = pd.DataFrame.from_dict(dict(results_df.distribution[j][i]))\n",
    "\n",
    "\n",
    "            if country in df.index:\n",
    "                df_variant = df_variant.append(df.loc[df.index == country])\n",
    "\n",
    "                \n",
    "        variant = results_df['cluster'][j]\n",
    "        #print(variant)\n",
    "        #print(df_variant)\n",
    "        \n",
    "        if cnt == 0:\n",
    "\n",
    "            df_country[variant] = df_variant['frequencies']\n",
    "            df_country['country'] = country\n",
    "            df_country['week'] = df_variant['week']\n",
    "            \n",
    "            cnt +=1\n",
    "        else:\n",
    "            df_country[variant] = df_variant['frequencies']\n",
    "\n",
    "            #print(df_country)\n",
    "        \n",
    "    variants[country] = df_country\n",
    "    df_temp = pd.DataFrame()\n",
    "    df_temp = df_country\n",
    "    df_temp = df_temp.set_index('week')\n",
    "    df_temp = df_temp.drop(columns = ['country'])\n",
    "    df_temp.to_csv('Variants\\\\' + country + '.csv')\n",
    "\n"
   ]
  }
 ],
 "metadata": {
  "kernelspec": {
   "display_name": "Python 3 (ipykernel)",
   "language": "python",
   "name": "python3"
  },
  "language_info": {
   "codemirror_mode": {
    "name": "ipython",
    "version": 3
   },
   "file_extension": ".py",
   "mimetype": "text/x-python",
   "name": "python",
   "nbconvert_exporter": "python",
   "pygments_lexer": "ipython3",
   "version": "3.9.7"
  }
 },
 "nbformat": 4,
 "nbformat_minor": 4
}
